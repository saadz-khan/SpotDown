{
 "metadata": {
  "language_info": {
   "codemirror_mode": {
    "name": "ipython",
    "version": 3
   },
   "file_extension": ".py",
   "mimetype": "text/x-python",
   "name": "python",
   "nbconvert_exporter": "python",
   "pygments_lexer": "ipython3",
   "version": "3.8.10"
  },
  "orig_nbformat": 4,
  "kernelspec": {
   "name": "python3",
   "display_name": "Python 3.8.10 64-bit"
  },
  "interpreter": {
   "hash": "31f2aee4e71d21fbe5cf8b01ff0e069b9275f58929596ceb00d14d90e3e16cd6"
  }
 },
 "nbformat": 4,
 "nbformat_minor": 2,
 "cells": [
  {
   "cell_type": "code",
   "execution_count": 13,
   "metadata": {
    "tags": [
     "outputPrepend"
    ]
   },
   "outputs": [
    {
     "output_type": "stream",
     "name": "stdout",
     "text": [
      "ke Studio Season 10: Episode 4'}, 'artists': [{'name': 'Farhan Saeed'}], 'name': 'Latthay Di Chaadar'}}, {'track': {'album': {'name': '12 Saal'}, 'artists': [{'name': 'Bilal Saeed'}], 'name': '12 Saal'}}, {'track': {'album': {'name': 'Suroor'}, 'artists': [{'name': 'Neha Kakkar'}], 'name': 'Suroor'}}, {'track': {'album': {'name': 'No Make Up'}, 'artists': [{'name': 'Bilal Saeed'}], 'name': 'No Make Up'}}, {'track': {'album': {'name': 'Naach Meri Rani'}, 'artists': [{'name': 'Guru Randhawa'}], 'name': 'Naach Meri Rani'}}, {'track': {'album': {'name': 'Namaste England (Original Motion Picture Soundtrack)'}, 'artists': [{'name': 'Badshah'}], 'name': 'Proper Patola'}}, {'track': {'album': {'name': 'Bom Diggy Diggy (From \"Sonu Ke Titu Ki Sweety\")'}, 'artists': [{'name': 'Zack Knight'}], 'name': 'Bom Diggy Diggy'}}, {'track': {'album': {'name': 'Veere Di Wedding (Original Motion Picture Soundtrack)'}, 'artists': [{'name': 'QARAN'}], 'name': 'Tareefan'}}, {'track': {'album': {'name': 'Paharon Ki Kasam'}, 'artists': [{'name': 'Shan Khan'}], 'name': 'Paharon Ki Kasam'}}, {'track': {'album': {'name': 'Lut Gaye'}, 'artists': [{'name': 'Jubin Nautiyal'}], 'name': 'Lut Gaye'}}, {'track': {'album': {'name': 'Paharon Ki Qasam (A Tribute To Ali Sadpara)'}, 'artists': [{'name': 'Ali Zafar'}], 'name': 'Paharon Ki Qasam (A Tribute To Ali Sadpara)'}}, {'track': {'album': {'name': 'Tera Ghata'}, 'artists': [{'name': 'Gajendra Verma'}], 'name': 'Tera Ghata'}}, {'track': {'album': {'name': 'Liggi'}, 'artists': [{'name': 'Ritviz'}], 'name': 'Liggi'}}, {'track': {'album': {'name': 'Ved'}, 'artists': [{'name': 'Ritviz'}], 'name': 'Udd Gaye'}}, {'track': {'album': {'name': 'Ved'}, 'artists': [{'name': 'Ritviz'}], 'name': 'Jeet'}}, {'track': {'album': {'name': 'Majhail'}, 'artists': [{'name': 'AP Dhillon'}], 'name': 'Majhail'}}, {'track': {'album': {'name': 'Amplifier'}, 'artists': [{'name': 'Imran Khan'}], 'name': 'Amplifier'}}, {'track': {'album': {'name': 'Bewafa'}, 'artists': [{'name': 'Imran Khan'}], 'name': 'Bewafa'}}, {'track': {'album': {'name': 'Coke Studio Season 10: Episode 2'}, 'artists': [{'name': 'Kaavish'}], 'name': 'Faasle'}}, {'track': {'album': {'name': 'Thirty'}, 'artists': [{'name': 'Strings'}], 'name': 'Sajni'}}, {'track': {'album': {'name': 'Cookie'}, 'artists': [{'name': 'Shamoon Ismail'}], 'name': 'Marijuana'}}, {'track': {'album': {'name': 'Ghalat Fehmi (From \"Superstar\")'}, 'artists': [{'name': 'Asim Azhar'}], 'name': 'Ghalat Fehmi - From \"Superstar\"'}}, {'track': {'album': {'name': 'Dhoom'}, 'artists': [{'name': 'Call'}], 'name': 'Laaree Chootee'}}, {'track': {'album': {'name': 'Zara Zara'}, 'artists': [{'name': 'Omkar'}], 'name': 'Zara Zara'}}, {'track': {'album': {'name': 'Waali'}, 'artists': [{'name': 'omer inayat'}], 'name': 'Tenu Le Ke'}}, {'track': {'album': {'name': 'Jai Veeru'}, 'artists': [{'name': 'omer inayat'}], 'name': 'Tennu Le'}}, {'track': {'album': {'name': 'Dont Mind'}, 'artists': [{'name': 'Talhah Yunus'}], 'name': 'Dont Mind'}}, {'track': {'album': {'name': 'Jhoom - Ali Zafar'}, 'artists': [{'name': 'Ali Zafar'}], 'name': 'Jhoom'}}, {'track': {'album': {'name': 'Joona'}, 'artists': [{'name': 'Hasan Raheem'}], 'name': 'Joona'}}, {'track': {'album': {'name': 'PAISA'}, 'artists': [{'name': 'Talal Qureshi'}], 'name': 'PAISA'}}, {'track': {'album': {'name': 'Murder 3 (Original Motion Picture Soundtrack)'}, 'artists': [{'name': 'Mustafa Zahid'}], 'name': 'Hum Jee Lenge'}}, {'track': {'album': {'name': 'Gumaan'}, 'artists': [{'name': 'Talha Anjum'}], 'name': 'Gumaan'}}, {'track': {'album': {'name': 'Dastaan'}, 'artists': [{'name': 'Abdullah Qureshi'}], 'name': 'Dastaan'}}, {'track': {'album': {'name': 'Kaali Kaali Zulfon Ke'}, 'artists': [{'name': 'Nusrat Fateh Ali Khan'}], 'name': 'Kaali Kaali Zulfon Ke'}}, {'track': {'album': {'name': 'Aaja Nachle'}, 'artists': [{'name': 'Salim–Sulaiman'}], 'name': 'O Re Piya'}}, {'track': {'album': {'name': 'Boondh'}, 'artists': [{'name': 'Jal'}], 'name': 'Sajni'}}, {'track': {'album': {'name': 'Doorie'}, 'artists': [{'name': 'Atif Aslam'}], 'name': 'Doorie'}}, {'track': {'album': {'name': 'Yaad'}, 'artists': [{'name': 'Asim Azhar'}], 'name': 'Yaad'}}, {'track': {'album': {'name': 'Chan Kithan - Single'}, 'artists': [{'name': 'Ali Sethi'}], 'name': 'Chan Kithan'}}, {'track': {'album': {'name': 'Doorie'}, 'artists': [{'name': 'Atif Aslam'}], 'name': 'Yakeen'}}, {'track': {'album': {'name': 'Tamasha'}, 'artists': [{'name': 'Alka Yagnik'}], 'name': 'Agar Tum Saath Ho'}}, {'track': {'album': {'name': 'Tujhe Kitna Chahne Lage (From \"Kabir Singh\")'}, 'artists': [{'name': 'Arijit Singh'}], 'name': 'Tujhe Kitna Chahne Lage (From \"Kabir Singh\")'}}, {'track': {'album': {'name': 'Laapata'}, 'artists': [{'name': 'Abdullah Qureshi'}], 'name': 'Laapata'}}, {'track': {'album': {'name': 'Zara Zara'}, 'artists': [{'name': 'Omkar'}], 'name': 'Zara Zara'}}, {'track': {'album': {'name': 'Udh Chaliye - Single'}, 'artists': [{'name': 'Danny Zee'}], 'name': 'Udh Chaliye'}}, {'track': {'album': {'name': 'Satisfya'}, 'artists': [{'name': 'Imran Khan'}], 'name': 'Satisfya'}}, {'track': {'album': {'name': 'Juice'}, 'artists': [{'name': 'Shamoon Ismail'}], 'name': 'Rung'}}, {'track': {'album': {'name': 'Toxic'}, 'artists': [{'name': 'AP Dhillon'}], 'name': 'Toxic'}}, {'track': {'album': {'name': 'Ek Raat'}, 'artists': [{'name': 'Vilen'}], 'name': 'Ek Raat'}}, {'track': {'album': {'name': 'Laga Reh'}, 'artists': [{'name': 'Talha Anjum'}], 'name': 'Laga Reh'}}, {'track': {'album': {'name': 'Same Beef'}, 'artists': [{'name': 'Bohemia'}], 'name': 'Same Beef'}}, {'track': {'album': {'name': 'Umeed'}, 'artists': [{'name': 'Bilal Khan'}], 'name': 'Bachana'}}, {'track': {'album': {'name': 'Aisay Kaisay'}, 'artists': [{'name': 'Hasan Raheem'}], 'name': 'Aisay Kaisay'}}, {'track': {'album': {'name': 'Waqt Ki Baatein - Single'}, 'artists': [{'name': 'Dream Note'}], 'name': 'Waqt Ki Baatein'}}, {'track': {'album': {'name': 'Huqa Pani'}, 'artists': [{'name': 'Ali Zafar'}], 'name': 'Chal Dil Merey'}}, {'track': {'album': {'name': 'Parastish'}, 'artists': [{'name': 'Ahmed Jehanzeb'}], 'name': 'Kaho Ek Din'}}, {'track': {'album': {'name': 'Zara Zara'}, 'artists': [{'name': 'Omkar Singh'}], 'name': 'Zara Zara'}}, {'track': {'album': {'name': 'Kalyug (Original Motion Picture Soundtrack)'}, 'artists': [{'name': 'Atif Aslam'}], 'name': 'Aadat'}}, {'track': {'album': {'name': 'Insane'}, 'artists': [{'name': 'AP Dhillon'}], 'name': 'Insane'}}, {'track': {'album': {'name': 'The Train'}, 'artists': [{'name': 'KK'}], 'name': 'Beete Lamhein (Lounge Mix)[Remix By Goldeyy]'}}, {'track': {'album': {'name': 'Anjaana Anjaani'}, 'artists': [{'name': 'Mohit Chauhan'}], 'name': 'Tujhe Bhula Diya'}}, {'track': {'album': {'name': 'Velo Sound Station EP 1'}, 'artists': [{'name': 'Atif Aslam'}], 'name': 'Kadi Te Has Bol'}}, {'track': {'album': {'name': 'Dildarian'}, 'artists': [{'name': 'Amrinder Gill'}], 'name': 'Dildarian'}}, {'track': {'album': {'name': 'Roiyaan'}, 'artists': [{'name': 'Farhan Saeed'}], 'name': 'Roiyaan'}}, {'track': {'album': {'name': 'Awarapan (Original Motion Picture Soundtrack)'}, 'artists': [{'name': 'Mustafa Zahid'}], 'name': 'Tera Mera Rishta'}}, {'track': {'album': {'name': 'So High'}, 'artists': [{'name': 'Sidhu Moose Wala'}], 'name': 'So High'}}, {'track': {'album': {'name': 'Fanaa'}, 'artists': [{'name': 'Jatin-Lalit'}], 'name': 'Chand Sifarish'}}, {'track': {'album': {'name': 'Adhi Adhi Raat'}, 'artists': [{'name': 'BILAL SAEED'}], 'name': 'Adhi Adhi Raat'}}, {'track': {'album': {'name': 'Rebirth'}, 'artists': [{'name': 'Talha Anjum'}], 'name': 'Karachi Lingo'}}, {'track': {'album': {'name': 'Aitebar'}, 'artists': [{'name': 'Vital Signs'}], 'name': 'Aitebar'}}, {'track': {'album': {'name': 'Ae Dil Hai Mushkil (Original Motion Picture Soundtrack) [Deluxe Edition]'}, 'artists': [{'name': 'Pritam'}], 'name': 'Ae Dil Hai Mushkil Title Track'}}, {'track': {'album': {'name': 'Rooh (Soul)'}, 'artists': [{'name': 'Bohemia'}], 'name': 'Rooh (Soul)'}}, {'track': {'album': {'name': 'Hate Story 2'}, 'artists': [{'name': 'Arijit Singh'}], 'name': 'Hai Dil Ye Mera'}}, {'track': {'album': {'name': 'Hawayein (From \"Jab Harry Met Sejal\")'}, 'artists': [{'name': 'Pritam'}], 'name': 'Hawayein (From \"Jab Harry Met Sejal\")'}}, {'track': {'album': {'name': 'Doorie'}, 'artists': [{'name': 'Atif Aslam'}], 'name': 'Kuch Is Tarah'}}, {'track': {'album': {'name': 'Quarantine'}, 'artists': [{'name': 'Talha Anjum'}], 'name': 'Quarantine'}}, {'track': {'album': {'name': 'Awarapan (Original Motion Picture Soundtrack)'}, 'artists': [{'name': 'Mustafa Zahid'}], 'name': 'Toh Phir Aao, Pt. 2'}}, {'track': {'album': {'name': 'Aashiqui 2'}, 'artists': [{'name': 'Arijit Singh'}], 'name': 'Tum Hi Ho'}}, {'track': {'album': {'name': 'Tum Hi Aana (From \"Marjaavaan\")'}, 'artists': [{'name': 'Payal Dev'}], 'name': 'Tum Hi Aana (From \"Marjaavaan\")'}}, {'track': {'album': {'name': 'Yaar Anmulle'}, 'artists': [{'name': 'Sharry Mann'}], 'name': 'Yaar Anmule'}}, {'track': {'album': {'name': 'Murder 2'}, 'artists': [{'name': 'Mohammed Irfan'}], 'name': 'Phir Mohabbat'}}, {'track': {'album': {'name': 'Anwar (Original Motion Picture Soundtrack)'}, 'artists': [{'name': 'Roop Kumar Rathod'}], 'name': 'Maula Mere Maula'}}, {'track': {'album': {'name': 'Udeekan'}, 'artists': [{'name': 'Jawad Kahlown'}], 'name': 'Udeekan'}}, {'track': {'album': {'name': 'Soneya'}, 'artists': [{'name': 'Asim Azhar'}], 'name': 'Soneya'}}, {'track': {'album': {'name': 'Game Bun Gayi (feat. Alistair Alvin)'}, 'artists': [{'name': 'Ali Zafar'}], 'name': 'Game Bun Gayi - feat. Alistair Alvin'}}, {'track': {'album': {'name': 'The Carnival'}, 'artists': [{'name': 'King'}], 'name': 'Tu Aake Dekhle'}}, {'track': {'album': {'name': 'intezaar'}, 'artists': [{'name': 'Zaeden'}], 'name': 'intezaar'}}, {'track': {'album': {'name': 'Chaar Dinon Ka Khwaab'}, 'artists': [{'name': 'Hassan & Roshaan'}], 'name': 'Lamha'}}, {'track': {'album': {'name': 'Duur'}, 'artists': [{'name': 'Strings'}], 'name': 'Duur'}}, {'track': {'album': {'name': 'Ludo'}, 'artists': [{'name': 'Pritam'}], 'name': 'Aabaad Barbaad'}}, {'track': {'album': {'name': 'Brown Munde'}, 'artists': [{'name': 'AP Dhillon'}], 'name': 'Brown Munde'}}, {'track': {'album': {'name': 'Coke Studio Season 10: Episode 4'}, 'artists': [{'name': 'Farhan Saeed'}], 'name': 'Latthay Di Chaadar'}}, {'track': {'album': {'name': '12 Saal'}, 'artists': [{'name': 'Bilal Saeed'}], 'name': '12 Saal'}}, {'track': {'album': {'name': 'Suroor'}, 'artists': [{'name': 'Neha Kakkar'}], 'name': 'Suroor'}}, {'track': {'album': {'name': 'No Make Up'}, 'artists': [{'name': 'Bilal Saeed'}], 'name': 'No Make Up'}}, {'track': {'album': {'name': 'Naach Meri Rani'}, 'artists': [{'name': 'Guru Randhawa'}], 'name': 'Naach Meri Rani'}}, {'track': {'album': {'name': 'Namaste England (Original Motion Picture Soundtrack)'}, 'artists': [{'name': 'Badshah'}], 'name': 'Proper Patola'}}, {'track': {'album': {'name': 'Bom Diggy Diggy (From \"Sonu Ke Titu Ki Sweety\")'}, 'artists': [{'name': 'Zack Knight'}], 'name': 'Bom Diggy Diggy'}}, {'track': {'album': {'name': 'Veere Di Wedding (Original Motion Picture Soundtrack)'}, 'artists': [{'name': 'QARAN'}], 'name': 'Tareefan'}}, {'track': {'album': {'name': 'Paharon Ki Kasam'}, 'artists': [{'name': 'Shan Khan'}], 'name': 'Paharon Ki Kasam'}}, {'track': {'album': {'name': 'Lut Gaye'}, 'artists': [{'name': 'Jubin Nautiyal'}], 'name': 'Lut Gaye'}}, {'track': {'album': {'name': 'Paharon Ki Qasam (A Tribute To Ali Sadpara)'}, 'artists': [{'name': 'Ali Zafar'}], 'name': 'Paharon Ki Qasam (A Tribute To Ali Sadpara)'}}, {'track': {'album': {'name': 'Tera Ghata'}, 'artists': [{'name': 'Gajendra Verma'}], 'name': 'Tera Ghata'}}, {'track': {'album': {'name': 'Liggi'}, 'artists': [{'name': 'Ritviz'}], 'name': 'Liggi'}}, {'track': {'album': {'name': 'Ved'}, 'artists': [{'name': 'Ritviz'}], 'name': 'Udd Gaye'}}, {'track': {'album': {'name': 'Ved'}, 'artists': [{'name': 'Ritviz'}], 'name': 'Jeet'}}, {'track': {'album': {'name': 'Majhail'}, 'artists': [{'name': 'AP Dhillon'}], 'name': 'Majhail'}}, {'track': {'album': {'name': 'Amplifier'}, 'artists': [{'name': 'Imran Khan'}], 'name': 'Amplifier'}}, {'track': {'album': {'name': 'Bewafa'}, 'artists': [{'name': 'Imran Khan'}], 'name': 'Bewafa'}}, {'track': {'album': {'name': 'Coke Studio Season 10: Episode 2'}, 'artists': [{'name': 'Kaavish'}], 'name': 'Faasle'}}, {'track': {'album': {'name': 'Thirty'}, 'artists': [{'name': 'Strings'}], 'name': 'Sajni'}}, {'track': {'album': {'name': 'Cookie'}, 'artists': [{'name': 'Shamoon Ismail'}], 'name': 'Marijuana'}}, {'track': {'album': {'name': 'Ghalat Fehmi (From \"Superstar\")'}, 'artists': [{'name': 'Asim Azhar'}], 'name': 'Ghalat Fehmi - From \"Superstar\"'}}, {'track': {'album': {'name': 'Dhoom'}, 'artists': [{'name': 'Call'}], 'name': 'Laaree Chootee'}}, {'track': {'album': {'name': 'Zara Zara'}, 'artists': [{'name': 'Omkar'}], 'name': 'Zara Zara'}}, {'track': {'album': {'name': 'Waali'}, 'artists': [{'name': 'omer inayat'}], 'name': 'Tenu Le Ke'}}, {'track': {'album': {'name': 'Jai Veeru'}, 'artists': [{'name': 'omer inayat'}], 'name': 'Tennu Le'}}, {'track': {'album': {'name': 'Dont Mind'}, 'artists': [{'name': 'Talhah Yunus'}], 'name': 'Dont Mind'}}, {'track': {'album': {'name': 'Jhoom - Ali Zafar'}, 'artists': [{'name': 'Ali Zafar'}], 'name': 'Jhoom'}}, {'track': {'album': {'name': 'Joona'}, 'artists': [{'name': 'Hasan Raheem'}], 'name': 'Joona'}}, {'track': {'album': {'name': 'PAISA'}, 'artists': [{'name': 'Talal Qureshi'}], 'name': 'PAISA'}}, {'track': {'album': {'name': 'Murder 3 (Original Motion Picture Soundtrack)'}, 'artists': [{'name': 'Mustafa Zahid'}], 'name': 'Hum Jee Lenge'}}, {'track': {'album': {'name': 'Gumaan'}, 'artists': [{'name': 'Talha Anjum'}], 'name': 'Gumaan'}}, {'track': {'album': {'name': 'Dastaan'}, 'artists': [{'name': 'Abdullah Qureshi'}], 'name': 'Dastaan'}}, {'track': {'album': {'name': 'Kaali Kaali Zulfon Ke'}, 'artists': [{'name': 'Nusrat Fateh Ali Khan'}], 'name': 'Kaali Kaali Zulfon Ke'}}, {'track': {'album': {'name': 'Aaja Nachle'}, 'artists': [{'name': 'Salim–Sulaiman'}], 'name': 'O Re Piya'}}, {'track': {'album': {'name': 'Boondh'}, 'artists': [{'name': 'Jal'}], 'name': 'Sajni'}}, {'track': {'album': {'name': 'Doorie'}, 'artists': [{'name': 'Atif Aslam'}], 'name': 'Doorie'}}, {'track': {'album': {'name': 'Yaad'}, 'artists': [{'name': 'Asim Azhar'}], 'name': 'Yaad'}}, {'track': {'album': {'name': 'Chan Kithan - Single'}, 'artists': [{'name': 'Ali Sethi'}], 'name': 'Chan Kithan'}}, {'track': {'album': {'name': 'Doorie'}, 'artists': [{'name': 'Atif Aslam'}], 'name': 'Yakeen'}}, {'track': {'album': {'name': 'Tamasha'}, 'artists': [{'name': 'Alka Yagnik'}], 'name': 'Agar Tum Saath Ho'}}, {'track': {'album': {'name': 'Tujhe Kitna Chahne Lage (From \"Kabir Singh\")'}, 'artists': [{'name': 'Arijit Singh'}], 'name': 'Tujhe Kitna Chahne Lage (From \"Kabir Singh\")'}}, {'track': {'album': {'name': 'Laapata'}, 'artists': [{'name': 'Abdullah Qureshi'}], 'name': 'Laapata'}}, {'track': {'album': {'name': 'Zara Zara'}, 'artists': [{'name': 'Omkar'}], 'name': 'Zara Zara'}}, {'track': {'album': {'name': 'Udh Chaliye - Single'}, 'artists': [{'name': 'Danny Zee'}], 'name': 'Udh Chaliye'}}, {'track': {'album': {'name': 'Satisfya'}, 'artists': [{'name': 'Imran Khan'}], 'name': 'Satisfya'}}, {'track': {'album': {'name': 'Juice'}, 'artists': [{'name': 'Shamoon Ismail'}], 'name': 'Rung'}}, {'track': {'album': {'name': 'Toxic'}, 'artists': [{'name': 'AP Dhillon'}], 'name': 'Toxic'}}, {'track': {'album': {'name': 'Ek Raat'}, 'artists': [{'name': 'Vilen'}], 'name': 'Ek Raat'}}, {'track': {'album': {'name': 'Laga Reh'}, 'artists': [{'name': 'Talha Anjum'}], 'name': 'Laga Reh'}}, {'track': {'album': {'name': 'Same Beef'}, 'artists': [{'name': 'Bohemia'}], 'name': 'Same Beef'}}, {'track': {'album': {'name': 'Umeed'}, 'artists': [{'name': 'Bilal Khan'}], 'name': 'Bachana'}}, {'track': {'album': {'name': 'Aisay Kaisay'}, 'artists': [{'name': 'Hasan Raheem'}], 'name': 'Aisay Kaisay'}}, {'track': {'album': {'name': 'Waqt Ki Baatein - Single'}, 'artists': [{'name': 'Dream Note'}], 'name': 'Waqt Ki Baatein'}}, {'track': {'album': {'name': 'Huqa Pani'}, 'artists': [{'name': 'Ali Zafar'}], 'name': 'Chal Dil Merey'}}, {'track': {'album': {'name': 'Parastish'}, 'artists': [{'name': 'Ahmed Jehanzeb'}], 'name': 'Kaho Ek Din'}}, {'track': {'album': {'name': 'Zara Zara'}, 'artists': [{'name': 'Omkar Singh'}], 'name': 'Zara Zara'}}, {'track': {'album': {'name': 'Kalyug (Original Motion Picture Soundtrack)'}, 'artists': [{'name': 'Atif Aslam'}], 'name': 'Aadat'}}, {'track': {'album': {'name': 'Insane'}, 'artists': [{'name': 'AP Dhillon'}], 'name': 'Insane'}}, {'track': {'album': {'name': 'The Train'}, 'artists': [{'name': 'KK'}], 'name': 'Beete Lamhein (Lounge Mix)[Remix By Goldeyy]'}}, {'track': {'album': {'name': 'Anjaana Anjaani'}, 'artists': [{'name': 'Mohit Chauhan'}], 'name': 'Tujhe Bhula Diya'}}, {'track': {'album': {'name': 'Velo Sound Station EP 1'}, 'artists': [{'name': 'Atif Aslam'}], 'name': 'Kadi Te Has Bol'}}, {'track': {'album': {'name': 'Dildarian'}, 'artists': [{'name': 'Amrinder Gill'}], 'name': 'Dildarian'}}, {'track': {'album': {'name': 'Roiyaan'}, 'artists': [{'name': 'Farhan Saeed'}], 'name': 'Roiyaan'}}, {'track': {'album': {'name': 'Awarapan (Original Motion Picture Soundtrack)'}, 'artists': [{'name': 'Mustafa Zahid'}], 'name': 'Tera Mera Rishta'}}, {'track': {'album': {'name': 'So High'}, 'artists': [{'name': 'Sidhu Moose Wala'}], 'name': 'So High'}}, {'track': {'album': {'name': 'Fanaa'}, 'artists': [{'name': 'Jatin-Lalit'}], 'name': 'Chand Sifarish'}}, {'track': {'album': {'name': 'Adhi Adhi Raat'}, 'artists': [{'name': 'BILAL SAEED'}], 'name': 'Adhi Adhi Raat'}}, {'track': {'album': {'name': 'Rebirth'}, 'artists': [{'name': 'Talha Anjum'}], 'name': 'Karachi Lingo'}}, {'track': {'album': {'name': 'Aitebar'}, 'artists': [{'name': 'Vital Signs'}], 'name': 'Aitebar'}}, {'track': {'album': {'name': 'Ae Dil Hai Mushkil (Original Motion Picture Soundtrack) [Deluxe Edition]'}, 'artists': [{'name': 'Pritam'}], 'name': 'Ae Dil Hai Mushkil Title Track'}}, {'track': {'album': {'name': 'Rooh (Soul)'}, 'artists': [{'name': 'Bohemia'}], 'name': 'Rooh (Soul)'}}, {'track': {'album': {'name': 'Hate Story 2'}, 'artists': [{'name': 'Arijit Singh'}], 'name': 'Hai Dil Ye Mera'}}, {'track': {'album': {'name': 'Hawayein (From \"Jab Harry Met Sejal\")'}, 'artists': [{'name': 'Pritam'}], 'name': 'Hawayein (From \"Jab Harry Met Sejal\")'}}, {'track': {'album': {'name': 'Doorie'}, 'artists': [{'name': 'Atif Aslam'}], 'name': 'Kuch Is Tarah'}}, {'track': {'album': {'name': 'Quarantine'}, 'artists': [{'name': 'Talha Anjum'}], 'name': 'Quarantine'}}, {'track': {'album': {'name': 'Awarapan (Original Motion Picture Soundtrack)'}, 'artists': [{'name': 'Mustafa Zahid'}], 'name': 'Toh Phir Aao, Pt. 2'}}, {'track': {'album': {'name': 'Aashiqui 2'}, 'artists': [{'name': 'Arijit Singh'}], 'name': 'Tum Hi Ho'}}, {'track': {'album': {'name': 'Tum Hi Aana (From \"Marjaavaan\")'}, 'artists': [{'name': 'Payal Dev'}], 'name': 'Tum Hi Aana (From \"Marjaavaan\")'}}, {'track': {'album': {'name': 'Yaar Anmulle'}, 'artists': [{'name': 'Sharry Mann'}], 'name': 'Yaar Anmule'}}, {'track': {'album': {'name': 'Murder 2'}, 'artists': [{'name': 'Mohammed Irfan'}], 'name': 'Phir Mohabbat'}}, {'track': {'album': {'name': 'Anwar (Original Motion Picture Soundtrack)'}, 'artists': [{'name': 'Roop Kumar Rathod'}], 'name': 'Maula Mere Maula'}}, {'track': {'album': {'name': 'Udeekan'}, 'artists': [{'name': 'Jawad Kahlown'}], 'name': 'Udeekan'}}, {'track': {'album': {'name': 'Soneya'}, 'artists': [{'name': 'Asim Azhar'}], 'name': 'Soneya'}}, {'track': {'album': {'name': 'Game Bun Gayi (feat. Alistair Alvin)'}, 'artists': [{'name': 'Ali Zafar'}], 'name': 'Game Bun Gayi - feat. Alistair Alvin'}}], 'limit': 100, 'next': None, 'offset': 0, 'previous': None, 'total': 16}, 'type': 'playlist', 'uri': '<playlist_uri>'}\n"
     ]
    }
   ],
   "source": [
    "for item in results['tracks']['items']:\n",
    "    track_dict = {\n",
    "        'track': {\n",
    "            'album': {\n",
    "                'name': item['track']['album']['name'],\n",
    "            },\n",
    "            'artists': [{\n",
    "                'name': item['track']['artists'][0]['name'],\n",
    "            }],\n",
    "            'name': item['track']['name'],\n",
    "        }\n",
    "    }\n",
    "    # Append the track dict structure to your results dict structure\n",
    "    result_dict['tracks']['items'].append(track_dict)\n",
    "    print(result_dict)"
   ]
  },
  {
   "cell_type": "code",
   "execution_count": 11,
   "metadata": {},
   "outputs": [
    {
     "output_type": "stream",
     "name": "stdout",
     "text": [
      "Song - Artist - Album\n\n['Tu Aake Dekhle - King - The Carnival', 'intezaar - Zaeden - intezaar', 'Lamha - Hassan & Roshaan - Chaar Dinon Ka Khwaab', 'Duur - Strings - Duur', 'Aabaad Barbaad - Pritam - Ludo', 'Brown Munde - AP Dhillon - Brown Munde', 'Latthay Di Chaadar - Farhan Saeed - Coke Studio Season 10: Episode 4', '12 Saal - Bilal Saeed - 12 Saal', 'Suroor - Neha Kakkar - Suroor', 'No Make Up - Bilal Saeed - No Make Up', 'Naach Meri Rani - Guru Randhawa - Naach Meri Rani', 'Proper Patola - Badshah - Namaste England (Original Motion Picture Soundtrack)', 'Bom Diggy Diggy - Zack Knight - Bom Diggy Diggy (From \"Sonu Ke Titu Ki Sweety\")', 'Tareefan - QARAN - Veere Di Wedding (Original Motion Picture Soundtrack)', 'Paharon Ki Kasam - Shan Khan - Paharon Ki Kasam', 'Lut Gaye - Jubin Nautiyal - Lut Gaye', 'Paharon Ki Qasam (A Tribute To Ali Sadpara) - Ali Zafar - Paharon Ki Qasam (A Tribute To Ali Sadpara)', 'Tera Ghata - Gajendra Verma - Tera Ghata', 'Liggi - Ritviz - Liggi', 'Udd Gaye - Ritviz - Ved', 'Jeet - Ritviz - Ved', 'Majhail - AP Dhillon - Majhail', 'Amplifier - Imran Khan - Amplifier', 'Bewafa - Imran Khan - Bewafa', 'Faasle - Kaavish - Coke Studio Season 10: Episode 2', 'Sajni - Strings - Thirty', 'Marijuana - Shamoon Ismail - Cookie', 'Ghalat Fehmi - From \"Superstar\" - Asim Azhar - Ghalat Fehmi (From \"Superstar\")', 'Laaree Chootee - Call - Dhoom', 'Zara Zara - Omkar - Zara Zara', 'Tenu Le Ke - omer inayat - Waali', 'Tennu Le - omer inayat - Jai Veeru', 'Dont Mind - Talhah Yunus - Dont Mind', 'Jhoom - Ali Zafar - Jhoom - Ali Zafar', 'Joona - Hasan Raheem - Joona', 'PAISA - Talal Qureshi - PAISA', 'Hum Jee Lenge - Mustafa Zahid - Murder 3 (Original Motion Picture Soundtrack)', 'Gumaan - Talha Anjum - Gumaan', 'Dastaan - Abdullah Qureshi - Dastaan', 'Kaali Kaali Zulfon Ke - Nusrat Fateh Ali Khan - Kaali Kaali Zulfon Ke', 'O Re Piya - Salim–Sulaiman - Aaja Nachle', 'Sajni - Jal - Boondh', 'Doorie - Atif Aslam - Doorie', 'Yaad - Asim Azhar - Yaad', 'Chan Kithan - Ali Sethi - Chan Kithan - Single', 'Yakeen - Atif Aslam - Doorie', 'Agar Tum Saath Ho - Alka Yagnik - Tamasha', 'Tujhe Kitna Chahne Lage (From \"Kabir Singh\") - Arijit Singh - Tujhe Kitna Chahne Lage (From \"Kabir Singh\")', 'Laapata - Abdullah Qureshi - Laapata', 'Zara Zara - Omkar - Zara Zara', 'Udh Chaliye - Danny Zee - Udh Chaliye - Single', 'Satisfya - Imran Khan - Satisfya', 'Rung - Shamoon Ismail - Juice', 'Toxic - AP Dhillon - Toxic', 'Ek Raat - Vilen - Ek Raat', 'Laga Reh - Talha Anjum - Laga Reh', 'Same Beef - Bohemia - Same Beef', 'Bachana - Bilal Khan - Umeed', 'Aisay Kaisay - Hasan Raheem - Aisay Kaisay', 'Waqt Ki Baatein - Dream Note - Waqt Ki Baatein - Single', 'Chal Dil Merey - Ali Zafar - Huqa Pani', 'Kaho Ek Din - Ahmed Jehanzeb - Parastish', 'Zara Zara - Omkar Singh - Zara Zara', 'Aadat - Atif Aslam - Kalyug (Original Motion Picture Soundtrack)', 'Insane - AP Dhillon - Insane', 'Beete Lamhein (Lounge Mix)[Remix By Goldeyy] - KK - The Train', 'Tujhe Bhula Diya - Mohit Chauhan - Anjaana Anjaani', 'Kadi Te Has Bol - Atif Aslam - Velo Sound Station EP 1', 'Dildarian - Amrinder Gill - Dildarian', 'Roiyaan - Farhan Saeed - Roiyaan', 'Tera Mera Rishta - Mustafa Zahid - Awarapan (Original Motion Picture Soundtrack)', 'So High - Sidhu Moose Wala - So High', 'Chand Sifarish - Jatin-Lalit - Fanaa', 'Adhi Adhi Raat - BILAL SAEED - Adhi Adhi Raat', 'Karachi Lingo - Talha Anjum - Rebirth', 'Aitebar - Vital Signs - Aitebar', 'Ae Dil Hai Mushkil Title Track - Pritam - Ae Dil Hai Mushkil (Original Motion Picture Soundtrack) [Deluxe Edition]', 'Rooh (Soul) - Bohemia - Rooh (Soul)', 'Hai Dil Ye Mera - Arijit Singh - Hate Story 2', 'Hawayein (From \"Jab Harry Met Sejal\") - Pritam - Hawayein (From \"Jab Harry Met Sejal\")', 'Kuch Is Tarah - Atif Aslam - Doorie', 'Quarantine - Talha Anjum - Quarantine', 'Toh Phir Aao, Pt. 2 - Mustafa Zahid - Awarapan (Original Motion Picture Soundtrack)', 'Tum Hi Ho - Arijit Singh - Aashiqui 2', 'Tum Hi Aana (From \"Marjaavaan\") - Payal Dev - Tum Hi Aana (From \"Marjaavaan\")', 'Yaar Anmule - Sharry Mann - Yaar Anmulle', 'Phir Mohabbat - Mohammed Irfan - Murder 2', 'Maula Mere Maula - Roop Kumar Rathod - Anwar (Original Motion Picture Soundtrack)', 'Udeekan - Jawad Kahlown - Udeekan', 'Soneya - Asim Azhar - Soneya', 'Game Bun Gayi - feat. Alistair Alvin - Ali Zafar - Game Bun Gayi (feat. Alistair Alvin)']\n"
     ]
    }
   ],
   "source": [
    "from spotipy.oauth2 import SpotifyClientCredentials\n",
    "import spotipy\n",
    "import json\n",
    "\n",
    "\n",
    "PlaylistExample = '37i9dQZEVXbMDoHDwVN2tF'\n",
    "\n",
    "cid = '02c200dac29f4a9e9bb00a335d661962'\n",
    "secret = '0ced9243ac5d4b19860dcbda87ad13b5'\n",
    "\n",
    "\n",
    "auth_manager = SpotifyClientCredentials(client_id=cid, client_secret=secret)\n",
    "sp = spotipy.Spotify(auth_manager=auth_manager)\n",
    "\n",
    "playlist_id = '5NcohSWNmtY3dlokttAtwG'\n",
    "results = sp.playlist(playlist_id)\n",
    "track_list = []\n",
    "print(\"Song - Artist - Album\\n\")\n",
    "for item in results['tracks']['items']:\n",
    "\ttrack_list.append(item['track']['name'] + ' - ' +\n",
    "        item['track']['artists'][0]['name'] + ' - ' +\n",
    "        item['track']['album']['name'])\n",
    "print(track_list)"
   ]
  },
  {
   "cell_type": "code",
   "execution_count": 21,
   "metadata": {},
   "outputs": [],
   "source": [
    "from spotipy.oauth2 import SpotifyClientCredentials\n",
    "import spotipy\n",
    "import json\n",
    "for item in results['tracks']['items']:\n",
    "\ttrack_dict = {\n",
    "\t\t'track': {\n",
    "\t\t'album': {\n",
    "\t\t\t'name': item['track']['album']['name'],\n",
    "\t\t},\n",
    "\t\t'artists': [{\n",
    "\t\t\t'name': item['track']['artists'][0]['name'],\n",
    "\t\t}],\n",
    "\t\t'name': item['track']['name'],\n",
    "\t\t}\n",
    "\t}\n",
    "\n",
    "# Append the track dict structure to your results dict structure\n",
    "result_dict['tracks']['items'].append(track_dict)\n",
    "out_file = open('track.json','w')\n",
    "json.dump(result_dict, out_file, indent = 4)"
   ]
  },
  {
   "cell_type": "code",
   "execution_count": 45,
   "metadata": {},
   "outputs": [
    {
     "output_type": "error",
     "ename": "IndentationError",
     "evalue": "unindent does not match any outer indentation level (<tokenize>, line 7)",
     "traceback": [
      "\u001b[0;36m  File \u001b[0;32m\"<tokenize>\"\u001b[0;36m, line \u001b[0;32m7\u001b[0m\n\u001b[0;31m    driver.get('https://ytmp3.cc/en14/')\u001b[0m\n\u001b[0m    ^\u001b[0m\n\u001b[0;31mIndentationError\u001b[0m\u001b[0;31m:\u001b[0m unindent does not match any outer indentation level\n"
     ]
    }
   ],
   "source": [
    "from selenium import webdriver\n",
    "from selenium.webdriver.common.keys import Keys\n",
    "import time\n",
    "\n",
    "def download_song(link):\n",
    "    driver = webdriver.Chrome()\n",
    "    driver.get('https://ytmp3.cc/en14/')\n",
    "\tdriver.findElement(By.xpath(\"//*[@id='input']\")).sendKeys(link)\n",
    "\tsubmit = driver.findElement(By.xpath(\"//*[@id='submit']\"))\n",
    "\tsubmit.click()\n",
    "\ttime.sleep(5)\n",
    "\tdriver.close()\n",
    "\n",
    "download_song('https://youtu.be/A66TYFdz8YA')\n"
   ]
  },
  {
   "cell_type": "code",
   "execution_count": 32,
   "metadata": {},
   "outputs": [
    {
     "output_type": "stream",
     "name": "stdout",
     "text": [
      "Defaulting to user installation because normal site-packages is not writeable\n",
      "Collecting selenium\n",
      "  Using cached selenium-3.141.0-py2.py3-none-any.whl (904 kB)\n",
      "Requirement already satisfied: urllib3 in /home/saad-khan/.local/lib/python3.8/site-packages (from selenium) (1.26.6)\n",
      "Installing collected packages: selenium\n",
      "Successfully installed selenium-3.141.0\n"
     ]
    }
   ],
   "source": [
    "! pip install selenium"
   ]
  },
  {
   "cell_type": "code",
   "execution_count": null,
   "metadata": {},
   "outputs": [],
   "source": []
  }
 ]
}